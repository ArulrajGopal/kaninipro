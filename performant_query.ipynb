{
 "cells": [
  {
   "cell_type": "code",
   "execution_count": 0,
   "metadata": {
    "application/vnd.databricks.v1+cell": {
     "cellMetadata": {
      "byteLimit": 2048000,
      "rowLimit": 10000
     },
     "inputWidgets": {},
     "nuid": "848c38e2-1ac2-4b9c-b895-448dd4666298",
     "showTitle": false,
     "tableResultSettingsMap": {},
     "title": ""
    }
   },
   "outputs": [],
   "source": []
  },
  {
   "cell_type": "markdown",
   "metadata": {
    "application/vnd.databricks.v1+cell": {
     "cellMetadata": {
      "byteLimit": 2048000,
      "rowLimit": 10000
     },
     "inputWidgets": {},
     "nuid": "3511c9ab-e4b8-45da-a36a-53b6f257931e",
     "showTitle": false,
     "tableResultSettingsMap": {},
     "title": ""
    }
   },
   "source": [
    "#import necessary modules"
   ]
  },
  {
   "cell_type": "code",
   "execution_count": 0,
   "metadata": {
    "application/vnd.databricks.v1+cell": {
     "cellMetadata": {
      "byteLimit": 2048000,
      "rowLimit": 10000
     },
     "inputWidgets": {},
     "nuid": "663c35cc-b00e-4da7-bb0d-6e37cb8377a3",
     "showTitle": false,
     "tableResultSettingsMap": {},
     "title": ""
    }
   },
   "outputs": [],
   "source": [
    "from pyspark.sql.types import StructType, StructField, StringType, DoubleType, IntegerType\n",
    "from pyspark.sql.functions import to_timestamp, col, input_file_name,regexp_extract, min, max, round, concat, lit,rand,monotonically_increasing_id\n"
   ]
  },
  {
   "cell_type": "markdown",
   "metadata": {
    "application/vnd.databricks.v1+cell": {
     "cellMetadata": {
      "byteLimit": 2048000,
      "rowLimit": 10000
     },
     "inputWidgets": {},
     "nuid": "f5fed9d9-99ad-41d2-a45e-fd50562c2feb",
     "showTitle": false,
     "tableResultSettingsMap": {},
     "title": ""
    }
   },
   "source": [
    "#configuration"
   ]
  },
  {
   "cell_type": "code",
   "execution_count": 0,
   "metadata": {
    "application/vnd.databricks.v1+cell": {
     "cellMetadata": {
      "byteLimit": 2048000,
      "rowLimit": 10000
     },
     "inputWidgets": {},
     "nuid": "1e46caf6-3f99-4db3-82f5-09adc07c8bd5",
     "showTitle": false,
     "tableResultSettingsMap": {},
     "title": ""
    }
   },
   "outputs": [],
   "source": [
    "spark.conf.set(\"fs.azure.account.key.kaninipro.dfs.core.windows.net\",your_storage_account_access_key)"
   ]
  },
  {
   "cell_type": "code",
   "execution_count": 0,
   "metadata": {
    "application/vnd.databricks.v1+cell": {
     "cellMetadata": {
      "byteLimit": 2048000,
      "rowLimit": 10000
     },
     "inputWidgets": {},
     "nuid": "043a6d2b-993e-40eb-8ecc-3d97593faaab",
     "showTitle": false,
     "tableResultSettingsMap": {},
     "title": ""
    }
   },
   "outputs": [],
   "source": [
    "container_name = \"data\"\n",
    "storage_account_name = \"kaninipro\"\n",
    "prefix_path = f\"abfss://{container_name}@{storage_account_name}.dfs.core.windows.net\""
   ]
  },
  {
   "cell_type": "markdown",
   "metadata": {
    "application/vnd.databricks.v1+cell": {
     "cellMetadata": {
      "byteLimit": 2048000,
      "rowLimit": 10000
     },
     "inputWidgets": {},
     "nuid": "b2815f8d-255f-4ddc-8fc6-633e3985daa2",
     "showTitle": false,
     "tableResultSettingsMap": {},
     "title": ""
    }
   },
   "source": [
    "#data preparation"
   ]
  },
  {
   "cell_type": "code",
   "execution_count": 0,
   "metadata": {
    "application/vnd.databricks.v1+cell": {
     "cellMetadata": {
      "byteLimit": 2048000,
      "rowLimit": 10000
     },
     "inputWidgets": {},
     "nuid": "d094ecf8-e10f-4fdf-95f3-aef36932b305",
     "showTitle": false,
     "tableResultSettingsMap": {},
     "title": ""
    }
   },
   "outputs": [],
   "source": [
    "weather_schema = StructType([\n",
    "    StructField(\"_c0\", IntegerType(), True),\n",
    "    StructField(\"date\", StringType(), True),\n",
    "    StructField(\"temperature_2m\", DoubleType(), True),\n",
    "    StructField(\"relative_humidity_2m\", DoubleType(), True),\n",
    "    StructField(\"dew_point_2m\", DoubleType(), True),\n",
    "    StructField(\"apparent_temperature\", DoubleType(), True),\n",
    "    StructField(\"precipitation\", DoubleType(), True),\n",
    "    StructField(\"rain\", DoubleType(), True),\n",
    "    StructField(\"snowfall\", DoubleType(), True),\n",
    "    StructField(\"snow_depth\", DoubleType(), True),\n",
    "    StructField(\"pressure_msl\", DoubleType(), True),\n",
    "    StructField(\"surface_pressure\", DoubleType(), True),\n",
    "    StructField(\"cloud_cover\", DoubleType(), True),\n",
    "    StructField(\"cloud_cover_low\", DoubleType(), True),\n",
    "    StructField(\"cloud_cover_mid\", DoubleType(), True),\n",
    "    StructField(\"cloud_cover_high\", DoubleType(), True),\n",
    "    StructField(\"wind_speed_10m\", DoubleType(), True),\n",
    "    StructField(\"wind_speed_100m\", DoubleType(), True),\n",
    "    StructField(\"wind_direction_10m\", DoubleType(), True),\n",
    "    StructField(\"wind_direction_100m\", DoubleType(), True),\n",
    "    StructField(\"wind_gusts_10m\", DoubleType(), True)\n",
    "])\n",
    "\n",
    "column_mapping = {\n",
    "        \"date\": to_timestamp(col(\"date\")),\n",
    "        \"file_name\": input_file_name(),\n",
    "        \"city\": regexp_extract(col(\"file_name\"), r\"/cities/([^/]+)\\.csv$\", 1),\n",
    "        \"record_id\": monotonically_increasing_id()\n",
    "    }\n",
    "\n",
    "\n",
    "weather_df = spark.read.format(\"csv\")\\\n",
    "    .schema(weather_schema) \\\n",
    "    .option(\"header\", \"true\")\\\n",
    "    .load(f\"{prefix_path}/src_city_weather/cities/\")\\\n",
    "    .withColumnRenamed(\"_c0\",\"id\")\\\n",
    "    .withColumns(column_mapping)\n",
    "\n",
    "city_schema = StructType([\n",
    "    StructField(\"city_id\", IntegerType(), True),\n",
    "    StructField(\"city\", StringType(), True),\n",
    "    StructField(\"lat\", DoubleType(), True),\n",
    "    StructField(\"lng\", DoubleType(), True)\n",
    "])\n",
    "\n",
    "city_df = spark.read.format(\"csv\")\\\n",
    "    .schema(city_schema) \\\n",
    "    .option(\"header\", \"true\")\\\n",
    "    .load(f\"{prefix_path}/src_city_weather/Weather_Data_Scraping_and_Analysis/weather.csv\")\\\n",
    "    .withColumn(\"city_group_code\", round(rand() * 200))\\\n",
    "\n",
    "city_code_joined_df = weather_df.join(city_df, \"city\").repartition(\"city_group_code\")\n",
    "\n",
    "\n",
    "city_code_joined_df.write.mode(\"overwrite\")\\\n",
    "        .format(\"parquet\")\\\n",
    "        .partitionBy(\"city_group_code\")\\\n",
    "        .option(\"path\",f\"{prefix_path}/city_code_joined\")\\\n",
    "        .saveAsTable(\"city_code_joined\")\n",
    "\n"
   ]
  },
  {
   "cell_type": "code",
   "execution_count": 0,
   "metadata": {
    "application/vnd.databricks.v1+cell": {
     "cellMetadata": {
      "byteLimit": 2048000,
      "implicitDf": true,
      "rowLimit": 10000
     },
     "inputWidgets": {},
     "nuid": "8b0e0dfa-80ee-4ef2-b91e-dfd1c886f6c6",
     "showTitle": false,
     "tableResultSettingsMap": {
      "0": {
       "dataGridStateBlob": "{\"version\":1,\"tableState\":{\"columnPinning\":{\"left\":[\"#row_number#\"],\"right\":[]},\"columnSizing\":{\"date\":227},\"columnVisibility\":{}},\"settings\":{\"columns\":{}},\"syncTimestamp\":1760817009594}",
       "filterBlob": null,
       "queryPlanFiltersBlob": null,
       "tableResultIndex": 0
      }
     },
     "title": ""
    }
   },
   "outputs": [],
   "source": [
    "%sql\n",
    "select * from city_code_joined limit 10"
   ]
  },
  {
   "cell_type": "code",
   "execution_count": 0,
   "metadata": {
    "application/vnd.databricks.v1+cell": {
     "cellMetadata": {},
     "inputWidgets": {},
     "nuid": "4c25f86a-0c6b-455a-af1d-c7d67c323173",
     "showTitle": false,
     "tableResultSettingsMap": {},
     "title": ""
    }
   },
   "outputs": [],
   "source": []
  },
  {
   "cell_type": "markdown",
   "metadata": {
    "application/vnd.databricks.v1+cell": {
     "cellMetadata": {
      "byteLimit": 2048000,
      "rowLimit": 10000
     },
     "inputWidgets": {},
     "nuid": "bbfc1e6e-444a-490d-aa9e-25d126879a5f",
     "showTitle": false,
     "tableResultSettingsMap": {},
     "title": ""
    }
   },
   "source": [
    "#When the filter column differs from the partition column"
   ]
  },
  {
   "cell_type": "markdown",
   "metadata": {
    "application/vnd.databricks.v1+cell": {
     "cellMetadata": {},
     "inputWidgets": {},
     "nuid": "7690bb8e-50c1-4e31-b6c4-f9c38c402a1c",
     "showTitle": false,
     "tableResultSettingsMap": {},
     "title": ""
    }
   },
   "source": [
    "## select all columns of the particular record_id"
   ]
  },
  {
   "cell_type": "code",
   "execution_count": 0,
   "metadata": {
    "application/vnd.databricks.v1+cell": {
     "cellMetadata": {},
     "inputWidgets": {},
     "nuid": "355ab33d-3b64-431a-b873-ada33ee8884d",
     "showTitle": false,
     "tableResultSettingsMap": {},
     "title": ""
    }
   },
   "outputs": [],
   "source": [
    "record_id = 4750233953314\n",
    "\n",
    "# direct query\n",
    "spark.table(\"city_code_joined\")\\\n",
    "                .filter(col(\"record_id\")==record_id)\\\n",
    "                .write.format(\"noop\").mode(\"overwrite\").save()\n",
    "\n",
    "\n",
    "# efficient query\n",
    "weather_df = spark.table(\"city_code_joined\")\n",
    "partition_selected_list = weather_df.filter(col(\"record_id\")==record_id).select(\"city_group_code\").distinct().collect()[0][0]\n",
    "final_df = weather_df.filter((col(\"city_group_code\")==partition_selected_list) & (col(\"record_id\")==record_id))\n",
    "final_df.write.format(\"noop\").mode(\"overwrite\").save()\n",
    "\n"
   ]
  },
  {
   "cell_type": "markdown",
   "metadata": {
    "application/vnd.databricks.v1+cell": {
     "cellMetadata": {},
     "inputWidgets": {},
     "nuid": "75a4b8ef-84cd-4815-8c60-0138edfaf22b",
     "showTitle": false,
     "tableResultSettingsMap": {},
     "title": ""
    }
   },
   "source": [
    "##benchmark test"
   ]
  },
  {
   "cell_type": "code",
   "execution_count": 0,
   "metadata": {
    "application/vnd.databricks.v1+cell": {
     "cellMetadata": {
      "byteLimit": 2048000,
      "rowLimit": 10000
     },
     "inputWidgets": {},
     "nuid": "37d6d1f2-2f67-4009-817b-e304ecf5c34b",
     "showTitle": false,
     "tableResultSettingsMap": {},
     "title": ""
    }
   },
   "outputs": [],
   "source": [
    "import time\n",
    "from pyspark.sql.functions import col\n",
    "\n",
    "timer1 = time.time() \n",
    "\n",
    "spark.table(\"city_code_joined\")\\\n",
    "                .filter(col(\"record_id\")==record_id)\\\n",
    "                .write.format(\"noop\").mode(\"overwrite\").save()\n",
    "\n",
    "timer2 = time.time() \n",
    "\n",
    "weather_df = spark.table(\"city_code_joined\")\n",
    "partition_selected_list = weather_df.filter(col(\"record_id\")==record_id).select(\"city_group_code\").distinct().collect()[0][0]\n",
    "final_df = weather_df.filter((col(\"city_group_code\")==partition_selected_list) & (col(\"record_id\")==record_id))\n",
    "final_df.write.format(\"noop\").mode(\"overwrite\").save()\n",
    "\n",
    "timer3 = time.time() \n",
    "\n",
    "time_taken_query1 = timer2 - timer1\n",
    "time_taken_query2 = timer3 - timer2\n",
    "\n",
    "print(f\"Time taken for direct query: {time_taken_query1:.2f} seconds\")\n",
    "print(f\"Time taken for direct query: {time_taken_query2:.2f} seconds\")"
   ]
  },
  {
   "cell_type": "code",
   "execution_count": 0,
   "metadata": {
    "application/vnd.databricks.v1+cell": {
     "cellMetadata": {},
     "inputWidgets": {},
     "nuid": "1234ccce-5804-4df7-9de4-b3691000c953",
     "showTitle": false,
     "tableResultSettingsMap": {},
     "title": ""
    }
   },
   "outputs": [],
   "source": []
  },
  {
   "cell_type": "markdown",
   "metadata": {
    "application/vnd.databricks.v1+cell": {
     "cellMetadata": {
      "byteLimit": 2048000,
      "rowLimit": 10000
     },
     "inputWidgets": {},
     "nuid": "7feb35dc-8033-4e20-8da4-69f5a797e0e5",
     "showTitle": false,
     "tableResultSettingsMap": {},
     "title": ""
    }
   },
   "source": [
    "#When working with large datasets that need deduplication"
   ]
  },
  {
   "cell_type": "code",
   "execution_count": 0,
   "metadata": {
    "application/vnd.databricks.v1+cell": {
     "cellMetadata": {
      "byteLimit": 2048000,
      "rowLimit": 10000
     },
     "inputWidgets": {},
     "nuid": "2899d173-9d3f-4dfa-bb5d-5b3bd76625a2",
     "showTitle": false,
     "tableResultSettingsMap": {},
     "title": ""
    }
   },
   "outputs": [],
   "source": [
    "#direct query\n",
    "df = spark.table(\"city_code_joined\")\n",
    "\n",
    "window_spec = Window.partitionBy(\"record_id\").orderBy(\"date\")\n",
    "deduped_df = df.withColumn(\"row_number\", row_number().over(window_spec)).filter(col(\"rank\")==1).drop(\"rank\")\n",
    "deduped_df.write.mode(\"overwrite\")\\\n",
    "        .format(\"parquet\")\\\n",
    "        .partitionBy(\"city_group_code\")\\\n",
    "        .save(f\"{prefix_path}/city_code_dedupe1\")\n",
    "\n",
    "#efficient query\n",
    "df = spark.table(\"city_code_joined\")\n",
    "\n",
    "window_spec = Window.partitionBy(\"record_id\").orderBy(\"date\")\n",
    "deduped_df = df.withColumn(\"row_number\", row_number().over(window_spec)).filter(col(\"rank\")==1).drop(\"rank\")\n",
    "deduped_df.write.format(\"noop\").mode(\"overwrite\").save()\n"
   ]
  },
  {
   "cell_type": "code",
   "execution_count": 0,
   "metadata": {
    "application/vnd.databricks.v1+cell": {
     "cellMetadata": {
      "byteLimit": 2048000,
      "rowLimit": 10000
     },
     "inputWidgets": {},
     "nuid": "1579baed-5242-4470-ba77-22ef647ac20a",
     "showTitle": false,
     "tableResultSettingsMap": {},
     "title": ""
    }
   },
   "outputs": [],
   "source": []
  },
  {
   "cell_type": "code",
   "execution_count": 0,
   "metadata": {
    "application/vnd.databricks.v1+cell": {
     "cellMetadata": {
      "byteLimit": 2048000,
      "rowLimit": 10000
     },
     "inputWidgets": {},
     "nuid": "06f34eba-304c-4e87-99e6-8867f9024075",
     "showTitle": false,
     "tableResultSettingsMap": {},
     "title": ""
    }
   },
   "outputs": [],
   "source": []
  },
  {
   "cell_type": "code",
   "execution_count": 0,
   "metadata": {
    "application/vnd.databricks.v1+cell": {
     "cellMetadata": {
      "byteLimit": 2048000,
      "rowLimit": 10000
     },
     "inputWidgets": {},
     "nuid": "51fd207c-4659-4d66-b904-fdd697745794",
     "showTitle": false,
     "tableResultSettingsMap": {},
     "title": ""
    }
   },
   "outputs": [],
   "source": []
  },
  {
   "cell_type": "markdown",
   "metadata": {
    "application/vnd.databricks.v1+cell": {
     "cellMetadata": {
      "byteLimit": 2048000,
      "rowLimit": 10000
     },
     "inputWidgets": {},
     "nuid": "9604c86d-684e-462a-9aa1-481ad7d22c0e",
     "showTitle": false,
     "tableResultSettingsMap": {},
     "title": ""
    }
   },
   "source": [
    "#replace group by + join with windows"
   ]
  },
  {
   "cell_type": "code",
   "execution_count": 0,
   "metadata": {
    "application/vnd.databricks.v1+cell": {
     "cellMetadata": {
      "byteLimit": 2048000,
      "rowLimit": 10000
     },
     "inputWidgets": {},
     "nuid": "eab678c0-1329-4b31-8e3f-1bba0e860d19",
     "showTitle": false,
     "tableResultSettingsMap": {},
     "title": ""
    }
   },
   "outputs": [],
   "source": [
    "# %sql\n",
    "# -- #Average query\n",
    "# SELECT a.id, a.name, b.total_sales\n",
    "# FROM customers a\n",
    "# JOIN (\n",
    "#     SELECT id, SUM(sales) AS total_sales\n",
    "#     FROM orders\n",
    "#     GROUP BY id\n",
    "# ) b\n",
    "# ON a.id = b.id"
   ]
  },
  {
   "cell_type": "code",
   "execution_count": 0,
   "metadata": {
    "application/vnd.databricks.v1+cell": {
     "cellMetadata": {
      "byteLimit": 2048000,
      "rowLimit": 10000
     },
     "inputWidgets": {},
     "nuid": "09069876-2558-40e6-8bb1-bc38f6d2d8a1",
     "showTitle": false,
     "tableResultSettingsMap": {},
     "title": ""
    }
   },
   "outputs": [],
   "source": [
    "# # Performant query\n",
    "# from pyspark.sql import functions as F\n",
    "# from pyspark.sql.window import Window\n",
    "\n",
    "# windowSpec = Window.partitionBy(\"id\")\n",
    "\n",
    "# df_with_sales = (\n",
    "#     orders\n",
    "#     .withColumn(\"total_sales\", F.sum(\"sales\").over(windowSpec))\n",
    "#     .select(\"id\", \"name\", \"total_sales\")\n",
    "#     .distinct()  # optional if duplicates matter\n",
    "# )"
   ]
  },
  {
   "cell_type": "code",
   "execution_count": 0,
   "metadata": {
    "application/vnd.databricks.v1+cell": {
     "cellMetadata": {
      "byteLimit": 2048000,
      "rowLimit": 10000
     },
     "inputWidgets": {},
     "nuid": "105e842d-1d0c-4b82-a6f8-68e5e41620c0",
     "showTitle": false,
     "tableResultSettingsMap": {},
     "title": ""
    }
   },
   "outputs": [],
   "source": []
  },
  {
   "cell_type": "code",
   "execution_count": 0,
   "metadata": {
    "application/vnd.databricks.v1+cell": {
     "cellMetadata": {
      "byteLimit": 2048000,
      "rowLimit": 10000
     },
     "inputWidgets": {},
     "nuid": "6d67c06d-b76b-46cf-a4b7-43c1304fa92c",
     "showTitle": false,
     "tableResultSettingsMap": {},
     "title": ""
    }
   },
   "outputs": [],
   "source": []
  },
  {
   "cell_type": "code",
   "execution_count": 0,
   "metadata": {
    "application/vnd.databricks.v1+cell": {
     "cellMetadata": {
      "byteLimit": 2048000,
      "rowLimit": 10000
     },
     "inputWidgets": {},
     "nuid": "6ea84540-e1e6-475c-b865-ae4fe376e1ae",
     "showTitle": false,
     "tableResultSettingsMap": {},
     "title": ""
    }
   },
   "outputs": [],
   "source": []
  },
  {
   "cell_type": "code",
   "execution_count": 0,
   "metadata": {
    "application/vnd.databricks.v1+cell": {
     "cellMetadata": {
      "byteLimit": 2048000,
      "rowLimit": 10000
     },
     "inputWidgets": {},
     "nuid": "30986082-b9d0-4cc4-9048-216f771d6043",
     "showTitle": false,
     "tableResultSettingsMap": {},
     "title": ""
    }
   },
   "outputs": [],
   "source": []
  },
  {
   "cell_type": "code",
   "execution_count": 0,
   "metadata": {
    "application/vnd.databricks.v1+cell": {
     "cellMetadata": {
      "byteLimit": 2048000,
      "rowLimit": 10000
     },
     "inputWidgets": {},
     "nuid": "dcccb89f-2be3-4e4e-a4a3-9f60056d7d81",
     "showTitle": false,
     "tableResultSettingsMap": {},
     "title": ""
    }
   },
   "outputs": [],
   "source": []
  },
  {
   "cell_type": "code",
   "execution_count": 0,
   "metadata": {
    "application/vnd.databricks.v1+cell": {
     "cellMetadata": {
      "byteLimit": 2048000,
      "rowLimit": 10000
     },
     "inputWidgets": {},
     "nuid": "fb25f42e-68cb-4381-b9f6-ae1b3040465d",
     "showTitle": false,
     "tableResultSettingsMap": {},
     "title": ""
    }
   },
   "outputs": [],
   "source": []
  },
  {
   "cell_type": "code",
   "execution_count": 0,
   "metadata": {
    "application/vnd.databricks.v1+cell": {
     "cellMetadata": {
      "byteLimit": 2048000,
      "rowLimit": 10000
     },
     "inputWidgets": {},
     "nuid": "5a192d36-107c-4d96-be99-ad50b84029e1",
     "showTitle": false,
     "tableResultSettingsMap": {},
     "title": ""
    }
   },
   "outputs": [],
   "source": []
  },
  {
   "cell_type": "code",
   "execution_count": 0,
   "metadata": {
    "application/vnd.databricks.v1+cell": {
     "cellMetadata": {
      "byteLimit": 2048000,
      "rowLimit": 10000
     },
     "inputWidgets": {},
     "nuid": "174390b2-7905-4476-b371-b118636a87ca",
     "showTitle": false,
     "tableResultSettingsMap": {},
     "title": ""
    }
   },
   "outputs": [],
   "source": []
  }
 ],
 "metadata": {
  "application/vnd.databricks.v1+notebook": {
   "computePreferences": null,
   "dashboards": [],
   "environmentMetadata": {
    "base_environment": "",
    "environment_version": "4"
   },
   "inputWidgetPreferences": null,
   "language": "python",
   "notebookMetadata": {
    "mostRecentlyExecutedCommandWithImplicitDF": {
     "commandId": 6956677110040152,
     "dataframes": [
      "_sqldf"
     ]
    },
    "pythonIndentUnit": 4
   },
   "notebookName": "performant_query",
   "widgets": {}
  },
  "language_info": {
   "name": "python"
  }
 },
 "nbformat": 4,
 "nbformat_minor": 0
}
