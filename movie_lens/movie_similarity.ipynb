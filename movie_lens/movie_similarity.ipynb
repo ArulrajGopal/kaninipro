{
 "cells": [
  {
   "cell_type": "code",
   "execution_count": 0,
   "metadata": {
    "application/vnd.databricks.v1+cell": {
     "cellMetadata": {
      "byteLimit": 2048000,
      "rowLimit": 10000
     },
     "inputWidgets": {},
     "nuid": "e30f1a70-1d1f-40d7-a814-841d25655e5d",
     "showTitle": false,
     "tableResultSettingsMap": {},
     "title": ""
    }
   },
   "outputs": [],
   "source": [
    "spark.conf.set(\"fs.azure.account.key.arulrajgopalshare.dfs.core.windows.net\",\"\")\n",
    "# spark.conf.set(\"spark.sql.adaptive.enabled\", \"false\")\n",
    "# spark.conf.set(\"spark.sql.autoBroadcastJoinThreshold\", -1)\n",
    "# spark.conf.set(\"spark.sql.shuffle.partitions\", 8)\n",
    "# spark.conf.set(\"spark.sql.files.maxPartitionBytes\", \"500m\")\n"
   ]
  },
  {
   "cell_type": "markdown",
   "metadata": {
    "application/vnd.databricks.v1+cell": {
     "cellMetadata": {},
     "inputWidgets": {},
     "nuid": "f79e241c-bc73-4335-95b1-5f79a2563b8d",
     "showTitle": false,
     "tableResultSettingsMap": {},
     "title": ""
    }
   },
   "source": [
    "#data preparation"
   ]
  },
  {
   "cell_type": "code",
   "execution_count": 0,
   "metadata": {
    "application/vnd.databricks.v1+cell": {
     "cellMetadata": {
      "byteLimit": 2048000,
      "rowLimit": 10000
     },
     "inputWidgets": {},
     "nuid": "e0685021-f11f-453e-9fbc-d6cc2c7be820",
     "showTitle": false,
     "tableResultSettingsMap": {},
     "title": ""
    }
   },
   "outputs": [],
   "source": [
    "from pyspark.sql.types import StructType, StructField, IntegerType, LongType, DoubleType, StringType\n",
    "from pyspark.sql.functions import col,sum as spark_sum, sqrt, desc,count\n",
    "\n",
    "# Step 1: reading the data\n",
    "path = \"abfss://kaninipro@arulrajgopalshare.dfs.core.windows.net\"\n",
    "schema = StructType([\n",
    "\n",
    "    StructField(\"item_id\", IntegerType(), True),\n",
    "    StructField(\"user_id\", LongType(), True),\n",
    "    StructField(\"rating\", DoubleType(), True),\n",
    "])\n",
    "\n",
    "ratings_df = spark.read.format(\"json\")\\\n",
    "    .schema(schema) \\\n",
    "    .load(f\"{path}/movielens_2gb/ratings.json\").filter(col(\"item_id\")<=5000)\n",
    "\n",
    "\n",
    "# Step 2: Self-join ratings on user_id to find item pairs rated by same user\n",
    "pair_ratings = (\n",
    "    ratings_df.alias(\"ratings1\")\n",
    "    .join(ratings_df.alias(\"ratings2\"),\n",
    "          (col(\"ratings1.user_id\") == col(\"ratings2.user_id\")) &\n",
    "          (col(\"ratings1.item_id\") < col(\"ratings2.item_id\")))  # avoid duplicate pairs\n",
    "    .select(\n",
    "        col(\"ratings1.item_id\").alias(\"item1\"),\n",
    "        col(\"ratings2.item_id\").alias(\"item2\"),\n",
    "        col(\"ratings1.rating\").alias(\"rating1\"),\n",
    "        col(\"ratings2.rating\").alias(\"rating2\")\n",
    "    )\n",
    ")\n",
    "\n",
    "# Step 3: Compute Cosine Similarity per item pair\n",
    "pair_stats = (\n",
    "    pair_ratings\n",
    "    .groupBy(\"item1\", \"item2\")\n",
    "    .agg(\n",
    "        spark_sum(col(\"rating1\") * col(\"rating2\")).alias(\"sum_xy\"),\n",
    "        spark_sum(col(\"rating1\") * col(\"rating1\")).alias(\"sum_xx\"),\n",
    "        spark_sum(col(\"rating2\") * col(\"rating2\")).alias(\"sum_yy\"),\n",
    "        count(\"*\").alias(\"numPairs\")\n",
    "    )\n",
    ")\n",
    "\n",
    "\n",
    "pair_stats.write \\\n",
    "    .mode(\"overwrite\") \\\n",
    "    .format(\"parquet\") \\\n",
    "    .option(\"path\", f\"{path}/test_path/pair_stats\") \\\n",
    "    .saveAsTable(\"pair_stats\")"
   ]
  },
  {
   "cell_type": "code",
   "execution_count": 0,
   "metadata": {
    "application/vnd.databricks.v1+cell": {
     "cellMetadata": {
      "byteLimit": 2048000,
      "rowLimit": 10000
     },
     "inputWidgets": {},
     "nuid": "9e743bb2-b488-40ff-bd6e-67da61be4006",
     "showTitle": false,
     "tableResultSettingsMap": {},
     "title": ""
    }
   },
   "outputs": [],
   "source": [
    "schema = StructType([\n",
    "    StructField(\"title\", StringType(), True),\n",
    "    StructField(\"starring\", StringType(), True),\n",
    "    StructField(\"dateAdded\", StringType(), True),\n",
    "    StructField(\"avgRating\", DoubleType(), True),\n",
    "    StructField(\"imdbId\", StringType(), True),\n",
    "    StructField(\"item_id\", IntegerType(), True)\n",
    "])\n",
    "\n",
    "movie_data = spark.read.format(\"json\")\\\n",
    "    .schema(schema) \\\n",
    "    .load(f\"{path}/movielens_2gb/metadata.json\")\\\n",
    "    .select(\"item_id\",\"title\")\n",
    "\n",
    "movie_data.write \\\n",
    "    .mode(\"overwrite\") \\\n",
    "    .format(\"parquet\") \\\n",
    "    .option(\"path\", f\"{path}/test_path/movie_data\") \\\n",
    "    .saveAsTable(\"movie_data\")"
   ]
  },
  {
   "cell_type": "markdown",
   "metadata": {
    "application/vnd.databricks.v1+cell": {
     "cellMetadata": {},
     "inputWidgets": {},
     "nuid": "20c5190d-bcec-4e16-9c4d-6363b2f3235d",
     "showTitle": false,
     "tableResultSettingsMap": {},
     "title": ""
    }
   },
   "source": [
    "#data processing"
   ]
  },
  {
   "cell_type": "code",
   "execution_count": 0,
   "metadata": {
    "application/vnd.databricks.v1+cell": {
     "cellMetadata": {
      "byteLimit": 2048000,
      "rowLimit": 10000
     },
     "inputWidgets": {},
     "nuid": "ae85d045-5870-4913-86cb-97dc6b699eea",
     "showTitle": false,
     "tableResultSettingsMap": {},
     "title": ""
    }
   },
   "outputs": [],
   "source": [
    "# spark.conf.set(\"spark.sql.shuffle.partitions\", 8)\n",
    "# spark.conf.set(\"spark.sql.files.maxPartitionBytes\", \"500m\")"
   ]
  },
  {
   "cell_type": "code",
   "execution_count": 0,
   "metadata": {
    "application/vnd.databricks.v1+cell": {
     "cellMetadata": {
      "byteLimit": 2048000,
      "rowLimit": 10000
     },
     "inputWidgets": {},
     "nuid": "767b71b1-3c91-42b4-ac4a-dec745d73399",
     "showTitle": false,
     "tableResultSettingsMap": {},
     "title": ""
    }
   },
   "outputs": [],
   "source": [
    "dbutils.fs.rm(\"abfss://kaninipro@arulrajgopalshare.dfs.core.windows.net/test_path/similar_movies\",True)"
   ]
  },
  {
   "cell_type": "code",
   "execution_count": 0,
   "metadata": {
    "application/vnd.databricks.v1+cell": {
     "cellMetadata": {
      "byteLimit": 2048000,
      "rowLimit": 10000
     },
     "inputWidgets": {},
     "nuid": "2142f31d-a750-4968-b55e-eee3484b1b6b",
     "showTitle": false,
     "tableResultSettingsMap": {},
     "title": ""
    }
   },
   "outputs": [],
   "source": [
    "from pyspark.sql.functions import col,sqrt,desc\n",
    "\n",
    "pair_stats = spark.table(\"pair_stats\")\n",
    "movie_data = spark.table(\"movie_data\")\n",
    "path = \"abfss://kaninipro@arulrajgopalshare.dfs.core.windows.net\"\n",
    "\n",
    "pair_scores = pair_stats.withColumn(\n",
    "    \"score\",\n",
    "    (col(\"sum_xy\") / (sqrt(col(\"sum_xx\")) * sqrt(col(\"sum_yy\"))))\n",
    ")\n",
    "\n",
    "\n",
    "filtered_results = pair_scores.filter(\n",
    "    (col(\"numPairs\") > 10) & (col(\"score\") > 0.95)\n",
    ").select(\"item1\",\"item2\",\"numPairs\",\"score\")\n",
    "\n",
    "results = filtered_results.orderBy(desc(\"score\"))\n",
    "\n",
    "\n",
    "movie_name_attached_df = results.alias(\"A\").join(movie_data.alias(\"B\"),col(\"A.item1\")==col(\"B.item_id\"))\\\n",
    "                                         .join(movie_data.alias(\"C\"),col(\"A.item2\")==col(\"C.item_id\"))\\\n",
    "                                        .selectExpr(\"A.*\",\"B.title as title1\",\"C.title as title2\")\n",
    "\n",
    "movie_name_attached_df.write \\\n",
    "    .mode(\"overwrite\") \\\n",
    "    .format(\"parquet\") \\\n",
    "    .option(\"path\", \"your_desired_directory_path/test_path/similar_movies\") \\\n",
    "    .saveAsTable(\"similar_movies\")\n",
    "\n"
   ]
  },
  {
   "cell_type": "code",
   "execution_count": 0,
   "metadata": {
    "application/vnd.databricks.v1+cell": {
     "cellMetadata": {
      "byteLimit": 2048000,
      "implicitDf": true,
      "rowLimit": 10000
     },
     "inputWidgets": {},
     "nuid": "c92c9176-99fb-4cd8-b831-8ebc9234a87f",
     "showTitle": false,
     "tableResultSettingsMap": {
      "0": {
       "dataGridStateBlob": "{\"version\":1,\"tableState\":{\"columnPinning\":{\"left\":[\"#row_number#\"],\"right\":[]},\"columnSizing\":{},\"columnVisibility\":{}},\"settings\":{\"columns\":{}},\"syncTimestamp\":1758996158579}",
       "filterBlob": "{\"version\":1,\"filterGroups\":[],\"syncTimestamp\":1758991995737}",
       "queryPlanFiltersBlob": "[]",
       "tableResultIndex": 0
      }
     },
     "title": ""
    }
   },
   "outputs": [],
   "source": [
    "%sql\n",
    "select  * from similar_movies"
   ]
  },
  {
   "cell_type": "code",
   "execution_count": 0,
   "metadata": {
    "application/vnd.databricks.v1+cell": {
     "cellMetadata": {},
     "inputWidgets": {},
     "nuid": "c857301b-f558-4909-88b0-d557153dda77",
     "showTitle": false,
     "tableResultSettingsMap": {},
     "title": ""
    }
   },
   "outputs": [],
   "source": []
  },
  {
   "cell_type": "code",
   "execution_count": 0,
   "metadata": {
    "application/vnd.databricks.v1+cell": {
     "cellMetadata": {},
     "inputWidgets": {},
     "nuid": "b4bb757f-499c-4816-9d55-210a686fbd6c",
     "showTitle": false,
     "tableResultSettingsMap": {},
     "title": ""
    }
   },
   "outputs": [],
   "source": []
  },
  {
   "cell_type": "code",
   "execution_count": 0,
   "metadata": {
    "application/vnd.databricks.v1+cell": {
     "cellMetadata": {},
     "inputWidgets": {},
     "nuid": "a63c3f3e-263b-411e-99cf-807979cb1a0b",
     "showTitle": false,
     "tableResultSettingsMap": {},
     "title": ""
    }
   },
   "outputs": [],
   "source": []
  }
 ],
 "metadata": {
  "application/vnd.databricks.v1+notebook": {
   "computePreferences": null,
   "dashboards": [],
   "environmentMetadata": {
    "base_environment": "",
    "environment_version": "3"
   },
   "inputWidgetPreferences": null,
   "language": "python",
   "notebookMetadata": {
    "mostRecentlyExecutedCommandWithImplicitDF": {
     "commandId": 7149290020875390,
     "dataframes": [
      "_sqldf"
     ]
    },
    "pythonIndentUnit": 4
   },
   "notebookName": "movie_similarity",
   "widgets": {}
  },
  "language_info": {
   "name": "python"
  }
 },
 "nbformat": 4,
 "nbformat_minor": 0
}
